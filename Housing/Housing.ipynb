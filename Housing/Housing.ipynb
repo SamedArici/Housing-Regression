{
 "cells": [
  {
   "cell_type": "markdown",
   "id": "962ed126",
   "metadata": {},
   "source": [
    "<div class=\"alert alert-block alert-warning\">\n",
    "\n",
    "<h1>Housing Price</h1>\n",
    "    \n",
    "<a href=\"https://www.kaggle.com/datasets/yasserh/housing-prices-dataset\">Kaggle Link</a>\n",
    "\n",
    "    \n",
    "<h2>About Dataset</h2>\n",
    "<p>Description</p>\n",
    "<blockquote>A simple yet challenging project, to predict the housing price based on certain factors like house area, bedrooms, furnished, nearness to mainroad, etc. The dataset is small yet, it's complexity arises due to the fact that it has strong multicollinearity. Can you overcome these obstacles and build a decent predictive model?</blockquote>\n",
    "\n",
    "<p>Objective</p>\n",
    "<blockquote>\n",
    "<ul>\n",
    "    <li>Understand the Dataset and cleanup (if required).</li>\n",
    "    <li>Build Regression models to predict the sales w.r.t a single and multiple feature.</li>\n",
    "    <li>Also evaluate the models and compare thier respective scores like R2, RMSE, etc.</li>\n",
    "</ul>\n",
    "</blockquote>\n",
    "</div>\n",
    "\n",
    "<hr>\n",
    "\n",
    "<div class=\"alert alert-block alert-info\">\n",
    "    <h2>Columns</h2>\n",
    "    <p><strong>price (target):</strong> Price of the Houses.</p>\n",
    "    <p><strong>area:</strong> Area of houses.</p>\n",
    "    <p><strong>bedrooms:</strong> Number of house bedrooms.</p>\n",
    "    <p><strong>bathrooms:</strong> Number of house bathrooms.</p>\n",
    "    <p><strong>stories:</strong> Number of house stories.</p>\n",
    "    <p><strong>minroad:</strong> Weather connected to Main Road.</p>\n",
    "    <p><strong>guestroom:</strong> Weather has a guest room.</p>\n",
    "    <p><strong>basement:</strong> Weather has a basement.</p>\n",
    "    <p><strong>hotwaterheating:</strong> Weather has a hotwater heater.</p>\n",
    "    <p><strong>airconditioning:</strong> Weather has an airconditioning.</p>\n",
    "    <p><strong>parking:</strong> Number of house parkings.</p>\n",
    "    <p><strong>prefarea:</strong> Prefarea of the house.</p>\n",
    "    <p><strong>furnishingstatus:</strong> Furnishing status of the house.</p>\n",
    "</div>"
   ]
  },
  {
   "cell_type": "markdown",
   "id": "075319d6",
   "metadata": {},
   "source": [
    "## Importing Libraries and Dataset"
   ]
  },
  {
   "cell_type": "code",
   "execution_count": 1,
   "id": "0725870e",
   "metadata": {},
   "outputs": [],
   "source": [
    "import numpy as np\n",
    "import pandas as pd\n",
    "import matplotlib.pyplot as plt\n",
    "%matplotlib inline\n",
    "import seaborn as sns"
   ]
  },
  {
   "cell_type": "code",
   "execution_count": 2,
   "id": "98bd396b",
   "metadata": {
    "scrolled": true
   },
   "outputs": [
    {
     "data": {
      "text/html": [
       "<div>\n",
       "<style scoped>\n",
       "    .dataframe tbody tr th:only-of-type {\n",
       "        vertical-align: middle;\n",
       "    }\n",
       "\n",
       "    .dataframe tbody tr th {\n",
       "        vertical-align: top;\n",
       "    }\n",
       "\n",
       "    .dataframe thead th {\n",
       "        text-align: right;\n",
       "    }\n",
       "</style>\n",
       "<table border=\"1\" class=\"dataframe\">\n",
       "  <thead>\n",
       "    <tr style=\"text-align: right;\">\n",
       "      <th></th>\n",
       "      <th>price</th>\n",
       "      <th>area</th>\n",
       "      <th>bedrooms</th>\n",
       "      <th>bathrooms</th>\n",
       "      <th>stories</th>\n",
       "      <th>mainroad</th>\n",
       "      <th>guestroom</th>\n",
       "      <th>basement</th>\n",
       "      <th>hotwaterheating</th>\n",
       "      <th>airconditioning</th>\n",
       "      <th>parking</th>\n",
       "      <th>prefarea</th>\n",
       "      <th>furnishingstatus</th>\n",
       "    </tr>\n",
       "  </thead>\n",
       "  <tbody>\n",
       "    <tr>\n",
       "      <th>0</th>\n",
       "      <td>13300000</td>\n",
       "      <td>7420</td>\n",
       "      <td>4</td>\n",
       "      <td>2</td>\n",
       "      <td>3</td>\n",
       "      <td>yes</td>\n",
       "      <td>no</td>\n",
       "      <td>no</td>\n",
       "      <td>no</td>\n",
       "      <td>yes</td>\n",
       "      <td>2</td>\n",
       "      <td>yes</td>\n",
       "      <td>furnished</td>\n",
       "    </tr>\n",
       "    <tr>\n",
       "      <th>1</th>\n",
       "      <td>12250000</td>\n",
       "      <td>8960</td>\n",
       "      <td>4</td>\n",
       "      <td>4</td>\n",
       "      <td>4</td>\n",
       "      <td>yes</td>\n",
       "      <td>no</td>\n",
       "      <td>no</td>\n",
       "      <td>no</td>\n",
       "      <td>yes</td>\n",
       "      <td>3</td>\n",
       "      <td>no</td>\n",
       "      <td>furnished</td>\n",
       "    </tr>\n",
       "    <tr>\n",
       "      <th>2</th>\n",
       "      <td>12250000</td>\n",
       "      <td>9960</td>\n",
       "      <td>3</td>\n",
       "      <td>2</td>\n",
       "      <td>2</td>\n",
       "      <td>yes</td>\n",
       "      <td>no</td>\n",
       "      <td>yes</td>\n",
       "      <td>no</td>\n",
       "      <td>no</td>\n",
       "      <td>2</td>\n",
       "      <td>yes</td>\n",
       "      <td>semi-furnished</td>\n",
       "    </tr>\n",
       "    <tr>\n",
       "      <th>3</th>\n",
       "      <td>12215000</td>\n",
       "      <td>7500</td>\n",
       "      <td>4</td>\n",
       "      <td>2</td>\n",
       "      <td>2</td>\n",
       "      <td>yes</td>\n",
       "      <td>no</td>\n",
       "      <td>yes</td>\n",
       "      <td>no</td>\n",
       "      <td>yes</td>\n",
       "      <td>3</td>\n",
       "      <td>yes</td>\n",
       "      <td>furnished</td>\n",
       "    </tr>\n",
       "    <tr>\n",
       "      <th>4</th>\n",
       "      <td>11410000</td>\n",
       "      <td>7420</td>\n",
       "      <td>4</td>\n",
       "      <td>1</td>\n",
       "      <td>2</td>\n",
       "      <td>yes</td>\n",
       "      <td>yes</td>\n",
       "      <td>yes</td>\n",
       "      <td>no</td>\n",
       "      <td>yes</td>\n",
       "      <td>2</td>\n",
       "      <td>no</td>\n",
       "      <td>furnished</td>\n",
       "    </tr>\n",
       "  </tbody>\n",
       "</table>\n",
       "</div>"
      ],
      "text/plain": [
       "      price  area  bedrooms  bathrooms  stories mainroad guestroom basement  \\\n",
       "0  13300000  7420         4          2        3      yes        no       no   \n",
       "1  12250000  8960         4          4        4      yes        no       no   \n",
       "2  12250000  9960         3          2        2      yes        no      yes   \n",
       "3  12215000  7500         4          2        2      yes        no      yes   \n",
       "4  11410000  7420         4          1        2      yes       yes      yes   \n",
       "\n",
       "  hotwaterheating airconditioning  parking prefarea furnishingstatus  \n",
       "0              no             yes        2      yes        furnished  \n",
       "1              no             yes        3       no        furnished  \n",
       "2              no              no        2      yes   semi-furnished  \n",
       "3              no             yes        3      yes        furnished  \n",
       "4              no             yes        2       no        furnished  "
      ]
     },
     "execution_count": 2,
     "metadata": {},
     "output_type": "execute_result"
    }
   ],
   "source": [
    "df = pd.read_csv('Housing.csv')\n",
    "df.head()"
   ]
  },
  {
   "cell_type": "code",
   "execution_count": 3,
   "id": "2f3d0954",
   "metadata": {},
   "outputs": [],
   "source": [
    "df.columns = map(str.lower,df.columns)"
   ]
  },
  {
   "cell_type": "code",
   "execution_count": 4,
   "id": "cb41b75d",
   "metadata": {},
   "outputs": [
    {
     "name": "stdout",
     "output_type": "stream",
     "text": [
      "(545, 13)\n"
     ]
    }
   ],
   "source": [
    "print(df.shape)"
   ]
  },
  {
   "cell_type": "code",
   "execution_count": 5,
   "id": "51df092c",
   "metadata": {},
   "outputs": [
    {
     "data": {
      "text/plain": [
       "price               0\n",
       "area                0\n",
       "bedrooms            0\n",
       "bathrooms           0\n",
       "stories             0\n",
       "mainroad            0\n",
       "guestroom           0\n",
       "basement            0\n",
       "hotwaterheating     0\n",
       "airconditioning     0\n",
       "parking             0\n",
       "prefarea            0\n",
       "furnishingstatus    0\n",
       "dtype: int64"
      ]
     },
     "execution_count": 5,
     "metadata": {},
     "output_type": "execute_result"
    }
   ],
   "source": [
    "df.isnull().sum()"
   ]
  },
  {
   "cell_type": "code",
   "execution_count": 6,
   "id": "46513834",
   "metadata": {},
   "outputs": [
    {
     "name": "stdout",
     "output_type": "stream",
     "text": [
      "<class 'pandas.core.frame.DataFrame'>\n",
      "RangeIndex: 545 entries, 0 to 544\n",
      "Data columns (total 13 columns):\n",
      " #   Column            Non-Null Count  Dtype \n",
      "---  ------            --------------  ----- \n",
      " 0   price             545 non-null    int64 \n",
      " 1   area              545 non-null    int64 \n",
      " 2   bedrooms          545 non-null    int64 \n",
      " 3   bathrooms         545 non-null    int64 \n",
      " 4   stories           545 non-null    int64 \n",
      " 5   mainroad          545 non-null    object\n",
      " 6   guestroom         545 non-null    object\n",
      " 7   basement          545 non-null    object\n",
      " 8   hotwaterheating   545 non-null    object\n",
      " 9   airconditioning   545 non-null    object\n",
      " 10  parking           545 non-null    int64 \n",
      " 11  prefarea          545 non-null    object\n",
      " 12  furnishingstatus  545 non-null    object\n",
      "dtypes: int64(6), object(7)\n",
      "memory usage: 55.5+ KB\n"
     ]
    }
   ],
   "source": [
    "df.info()"
   ]
  },
  {
   "cell_type": "code",
   "execution_count": 7,
   "id": "0827d9de",
   "metadata": {
    "scrolled": false
   },
   "outputs": [
    {
     "data": {
      "text/html": [
       "<div>\n",
       "<style scoped>\n",
       "    .dataframe tbody tr th:only-of-type {\n",
       "        vertical-align: middle;\n",
       "    }\n",
       "\n",
       "    .dataframe tbody tr th {\n",
       "        vertical-align: top;\n",
       "    }\n",
       "\n",
       "    .dataframe thead th {\n",
       "        text-align: right;\n",
       "    }\n",
       "</style>\n",
       "<table border=\"1\" class=\"dataframe\">\n",
       "  <thead>\n",
       "    <tr style=\"text-align: right;\">\n",
       "      <th></th>\n",
       "      <th>count</th>\n",
       "      <th>mean</th>\n",
       "      <th>std</th>\n",
       "      <th>min</th>\n",
       "      <th>25%</th>\n",
       "      <th>50%</th>\n",
       "      <th>75%</th>\n",
       "      <th>max</th>\n",
       "    </tr>\n",
       "  </thead>\n",
       "  <tbody>\n",
       "    <tr>\n",
       "      <th>price</th>\n",
       "      <td>545.0</td>\n",
       "      <td>4.766729e+06</td>\n",
       "      <td>1.870440e+06</td>\n",
       "      <td>1750000.0</td>\n",
       "      <td>3430000.0</td>\n",
       "      <td>4340000.0</td>\n",
       "      <td>5740000.0</td>\n",
       "      <td>13300000.0</td>\n",
       "    </tr>\n",
       "    <tr>\n",
       "      <th>area</th>\n",
       "      <td>545.0</td>\n",
       "      <td>5.150541e+03</td>\n",
       "      <td>2.170141e+03</td>\n",
       "      <td>1650.0</td>\n",
       "      <td>3600.0</td>\n",
       "      <td>4600.0</td>\n",
       "      <td>6360.0</td>\n",
       "      <td>16200.0</td>\n",
       "    </tr>\n",
       "    <tr>\n",
       "      <th>bedrooms</th>\n",
       "      <td>545.0</td>\n",
       "      <td>2.965138e+00</td>\n",
       "      <td>7.380639e-01</td>\n",
       "      <td>1.0</td>\n",
       "      <td>2.0</td>\n",
       "      <td>3.0</td>\n",
       "      <td>3.0</td>\n",
       "      <td>6.0</td>\n",
       "    </tr>\n",
       "    <tr>\n",
       "      <th>bathrooms</th>\n",
       "      <td>545.0</td>\n",
       "      <td>1.286239e+00</td>\n",
       "      <td>5.024696e-01</td>\n",
       "      <td>1.0</td>\n",
       "      <td>1.0</td>\n",
       "      <td>1.0</td>\n",
       "      <td>2.0</td>\n",
       "      <td>4.0</td>\n",
       "    </tr>\n",
       "    <tr>\n",
       "      <th>stories</th>\n",
       "      <td>545.0</td>\n",
       "      <td>1.805505e+00</td>\n",
       "      <td>8.674925e-01</td>\n",
       "      <td>1.0</td>\n",
       "      <td>1.0</td>\n",
       "      <td>2.0</td>\n",
       "      <td>2.0</td>\n",
       "      <td>4.0</td>\n",
       "    </tr>\n",
       "    <tr>\n",
       "      <th>parking</th>\n",
       "      <td>545.0</td>\n",
       "      <td>6.935780e-01</td>\n",
       "      <td>8.615858e-01</td>\n",
       "      <td>0.0</td>\n",
       "      <td>0.0</td>\n",
       "      <td>0.0</td>\n",
       "      <td>1.0</td>\n",
       "      <td>3.0</td>\n",
       "    </tr>\n",
       "  </tbody>\n",
       "</table>\n",
       "</div>"
      ],
      "text/plain": [
       "           count          mean           std        min        25%        50%  \\\n",
       "price      545.0  4.766729e+06  1.870440e+06  1750000.0  3430000.0  4340000.0   \n",
       "area       545.0  5.150541e+03  2.170141e+03     1650.0     3600.0     4600.0   \n",
       "bedrooms   545.0  2.965138e+00  7.380639e-01        1.0        2.0        3.0   \n",
       "bathrooms  545.0  1.286239e+00  5.024696e-01        1.0        1.0        1.0   \n",
       "stories    545.0  1.805505e+00  8.674925e-01        1.0        1.0        2.0   \n",
       "parking    545.0  6.935780e-01  8.615858e-01        0.0        0.0        0.0   \n",
       "\n",
       "                 75%         max  \n",
       "price      5740000.0  13300000.0  \n",
       "area          6360.0     16200.0  \n",
       "bedrooms         3.0         6.0  \n",
       "bathrooms        2.0         4.0  \n",
       "stories          2.0         4.0  \n",
       "parking          1.0         3.0  "
      ]
     },
     "execution_count": 7,
     "metadata": {},
     "output_type": "execute_result"
    }
   ],
   "source": [
    "df.describe().T"
   ]
  },
  {
   "cell_type": "code",
   "execution_count": 8,
   "id": "10aa983a",
   "metadata": {},
   "outputs": [
    {
     "data": {
      "text/plain": [
       "area         0.535997\n",
       "bathrooms    0.517545\n",
       "stories      0.420712\n",
       "parking      0.384394\n",
       "bedrooms     0.366494\n",
       "Name: price, dtype: float64"
      ]
     },
     "execution_count": 8,
     "metadata": {},
     "output_type": "execute_result"
    }
   ],
   "source": [
    "df.corr()['price'].sort_values(ascending = False)[1:]"
   ]
  },
  {
   "cell_type": "code",
   "execution_count": 9,
   "id": "2a38bff7",
   "metadata": {},
   "outputs": [
    {
     "data": {
      "image/png": "[encoded data removed]",
      "text/plain": [
       "<Figure size 600x400 with 2 Axes>"
      ]
     },
     "metadata": {},
     "output_type": "display_data"
    }
   ],
   "source": [
    "plt.figure(figsize = (6,4))\n",
    "sns.heatmap(df.corr(),annot = True,annot_kws = {'size':9},cmap = 'viridis')\n",
    "plt.show()"
   ]
  },
  {
   "cell_type": "code",
   "execution_count": 10,
   "id": "1f9ae364",
   "metadata": {},
   "outputs": [
    {
     "data": {
      "image/png": "[encoded data removed]",
      "text/plain": [
       "<Figure size 600x300 with 1 Axes>"
      ]
     },
     "metadata": {},
     "output_type": "display_data"
    }
   ],
   "source": [
    "plt.figure(figsize = (6,3))\n",
    "ax = sns.histplot(x = 'price',data = df)\n",
    "ax.bar_label(ax.containers[1])\n",
    "plt.show()"
   ]
  },
  {
   "cell_type": "markdown",
   "id": "24b516eb",
   "metadata": {},
   "source": [
    "## Create Independent and Dependent Variables"
   ]
  },
  {
   "cell_type": "code",
   "execution_count": 11,
   "id": "43c531ff",
   "metadata": {},
   "outputs": [],
   "source": [
    "object_cols = df.select_dtypes('object').columns.drop('furnishingstatus')\n",
    "\n",
    "for col in object_cols:\n",
    "    df[col] = df[col].apply(lambda x: 1 if x == 'Yes' else 0)"
   ]
  },
  {
   "cell_type": "code",
   "execution_count": 12,
   "id": "4be47d02",
   "metadata": {},
   "outputs": [],
   "source": [
    "df['furnishingstatus'] = df['furnishingstatus'].apply(\n",
    "    lambda x: 2 if x == 'furnished' else(1 if x == 'semi-furnished' else 0)\n",
    ")"
   ]
  },
  {
   "cell_type": "code",
   "execution_count": 13,
   "id": "38472b04",
   "metadata": {},
   "outputs": [],
   "source": [
    "X = df.drop('price',axis = 1)\n",
    "y = df['price']"
   ]
  },
  {
   "cell_type": "markdown",
   "id": "b9ed4090",
   "metadata": {},
   "source": [
    "## Split the Data into the Train and Test Sets"
   ]
  },
  {
   "cell_type": "code",
   "execution_count": 14,
   "id": "55abcc9e",
   "metadata": {},
   "outputs": [],
   "source": [
    "from sklearn.model_selection import train_test_split"
   ]
  },
  {
   "cell_type": "code",
   "execution_count": 15,
   "id": "4e68a4ef",
   "metadata": {},
   "outputs": [],
   "source": [
    "X_train,X_test,y_train,y_test = train_test_split(X,y,test_size=0.3,random_state=0)"
   ]
  },
  {
   "cell_type": "markdown",
   "id": "9c048741",
   "metadata": {},
   "source": [
    "## Machine Learning Models"
   ]
  },
  {
   "cell_type": "code",
   "execution_count": 16,
   "id": "8302221e",
   "metadata": {},
   "outputs": [],
   "source": [
    "from sklearn.model_selection import GridSearchCV"
   ]
  },
  {
   "cell_type": "code",
   "execution_count": 17,
   "id": "26aa2d22",
   "metadata": {},
   "outputs": [],
   "source": [
    "from sklearn.ensemble import RandomForestRegressor\n",
    "from sklearn.tree import DecisionTreeRegressor\n",
    "from xgboost import XGBRFRegressor\n",
    "from sklearn.neighbors import KNeighborsRegressor\n",
    "from sklearn.linear_model import LinearRegression"
   ]
  },
  {
   "cell_type": "code",
   "execution_count": 18,
   "id": "ede899cf",
   "metadata": {},
   "outputs": [],
   "source": [
    "from sklearn.metrics import r2_score,mean_absolute_error,mean_squared_error"
   ]
  },
  {
   "cell_type": "code",
   "execution_count": 19,
   "id": "b45d8067",
   "metadata": {},
   "outputs": [],
   "source": [
    "def grid_search(estimator,param_grid,algorithmName):\n",
    "    gridSearch = GridSearchCV(\n",
    "        estimator=estimator,\n",
    "        param_grid=param_grid,\n",
    "        cv=10,\n",
    "        n_jobs=-1\n",
    "    )\n",
    "    gridSearch.fit(X_train,y_train)\n",
    "    best_params = gridSearch.best_params_\n",
    "    print(algorithmName.center(50,'_'),end='\\n\\n')\n",
    "    print(best_params)"
   ]
  },
  {
   "cell_type": "markdown",
   "id": "7b31663f",
   "metadata": {},
   "source": [
    "### Random Forest"
   ]
  },
  {
   "cell_type": "code",
   "execution_count": 20,
   "id": "700b90fb",
   "metadata": {},
   "outputs": [
    {
     "name": "stdout",
     "output_type": "stream",
     "text": [
      "__________________Random Forest___________________\n",
      "\n",
      "{'max_depth': 4, 'min_samples_split': 3, 'n_estimators': 100}\n"
     ]
    }
   ],
   "source": [
    "rf_model = RandomForestRegressor().fit(X_train,y_train)\n",
    "rf_params = {'n_estimators':[100,500,1000],'max_depth':[None,3,4,5],'min_samples_split':[2,3,4]}\n",
    "grid_search(rf_model,rf_params,'Random Forest')"
   ]
  },
  {
   "cell_type": "code",
   "execution_count": 21,
   "id": "981f5d92",
   "metadata": {},
   "outputs": [],
   "source": [
    "rf_tuned_model = RandomForestRegressor(max_depth=4,min_samples_split=2,n_estimators = 500,random_state=0).fit(X_train,y_train)\n",
    "rf_pred = rf_tuned_model.predict(X_test)"
   ]
  },
  {
   "cell_type": "markdown",
   "id": "9b78064b",
   "metadata": {},
   "source": [
    "### Decision Tree"
   ]
  },
  {
   "cell_type": "code",
   "execution_count": 22,
   "id": "da241e87",
   "metadata": {},
   "outputs": [
    {
     "name": "stdout",
     "output_type": "stream",
     "text": [
      "__________________Decision tree___________________\n",
      "\n",
      "{'max_depth': 3, 'min_samples_split': 2, 'random_state': 0}\n"
     ]
    }
   ],
   "source": [
    "dt_model = DecisionTreeRegressor().fit(X_train,y_train)\n",
    "dt_params = {'random_state':[0],'max_depth':[None,3,4,5],'min_samples_split':[2,3,4]}\n",
    "grid_search(dt_model,dt_params,'Decision tree')"
   ]
  },
  {
   "cell_type": "code",
   "execution_count": 23,
   "id": "2b6a2f57",
   "metadata": {},
   "outputs": [],
   "source": [
    "dt_tuned_model = DecisionTreeRegressor(max_depth=3,min_samples_split=2,random_state=0).fit(X_train,y_train)\n",
    "dt_pred = dt_tuned_model.predict(X_test)"
   ]
  },
  {
   "cell_type": "markdown",
   "id": "4f662949",
   "metadata": {},
   "source": [
    "### XGBoost"
   ]
  },
  {
   "cell_type": "code",
   "execution_count": 24,
   "id": "c007fa7e",
   "metadata": {},
   "outputs": [
    {
     "name": "stdout",
     "output_type": "stream",
     "text": [
      "___________________XGBRegressor___________________\n",
      "\n",
      "{'colsample_bynode': 0.6, 'learning_rate': 1.0, 'max_depth': 4, 'n_estimators': 500}\n"
     ]
    }
   ],
   "source": [
    "xgb_model = XGBRFRegressor().fit(X_train,y_train)\n",
    "xgb_params = {\n",
    "    'learning_rate':[0.01, 0.1, 0.5, 1.0],\n",
    "    'max_depth':[3,4,5],\n",
    "    'n_estimators':[100,200,500,1000],\n",
    "    'colsample_bynode':[0.6,0.7,0.8,0.9]\n",
    "}\n",
    "grid_search(xgb_model,xgb_params,'XGBRegressor')"
   ]
  },
  {
   "cell_type": "code",
   "execution_count": 25,
   "id": "08ba40d4",
   "metadata": {},
   "outputs": [],
   "source": [
    "xgb_tuned_model = XGBRFRegressor(colsample_bynode=0.6,learning_rate=1.0,max_depth = 4,n_estimators = 100).fit(X_train,y_train)\n",
    "xgb_pred = xgb_tuned_model.predict(X_test)"
   ]
  },
  {
   "cell_type": "markdown",
   "id": "3bbac6fa",
   "metadata": {},
   "source": [
    "### KNN"
   ]
  },
  {
   "cell_type": "code",
   "execution_count": 26,
   "id": "d2852e59",
   "metadata": {},
   "outputs": [
    {
     "name": "stdout",
     "output_type": "stream",
     "text": [
      "_______________________KNN________________________\n",
      "\n",
      "{'n_neighbors': 49}\n"
     ]
    }
   ],
   "source": [
    "knn_model = KNeighborsRegressor().fit(X_train,y_train)\n",
    "knn_params = {'n_neighbors':np.arange(1,50,2)}\n",
    "grid_search(knn_model,knn_params,'KNN')"
   ]
  },
  {
   "cell_type": "code",
   "execution_count": 27,
   "id": "6c9b9b5b",
   "metadata": {},
   "outputs": [],
   "source": [
    "knn_tuned_model = KNeighborsRegressor(n_neighbors=49).fit(X_train,y_train)\n",
    "knn_pred = knn_tuned_model.predict(X_test)"
   ]
  },
  {
   "cell_type": "markdown",
   "id": "35871161",
   "metadata": {},
   "source": [
    "### Multiple Linear Regression"
   ]
  },
  {
   "cell_type": "code",
   "execution_count": 28,
   "id": "00d268ed",
   "metadata": {},
   "outputs": [],
   "source": [
    "multiple_lin_reg_model = LinearRegression().fit(X_train,y_train)\n",
    "mlr_pred = multiple_lin_reg_model.predict(X_test)"
   ]
  },
  {
   "cell_type": "markdown",
   "id": "42728adc",
   "metadata": {},
   "source": [
    "## Calculate Scores"
   ]
  },
  {
   "cell_type": "code",
   "execution_count": 29,
   "id": "6ca57511",
   "metadata": {},
   "outputs": [],
   "source": [
    "def calculate_scores(y_pred,modelName):    \n",
    "    global df_result,index\n",
    "    \n",
    "    r2 = round(r2_score(y_test,y_pred),2)\n",
    "    mae = round(mean_absolute_error(y_test,y_pred),2)\n",
    "    rmse = round(np.sqrt(mean_squared_error(y_test,y_pred)),2)\n",
    "    \n",
    "    scores = {\n",
    "        'model':modelName,\n",
    "        'r2': r2,\n",
    "        'mae': mae,\n",
    "        'rmse':rmse\n",
    "    }\n",
    "    \n",
    "    new_df = pd.DataFrame(data = scores,index = [index])\n",
    "    df_result = pd.concat([df_result,new_df])\n",
    "    index += 1   "
   ]
  },
  {
   "cell_type": "code",
   "execution_count": 30,
   "id": "6a6450b3",
   "metadata": {},
   "outputs": [
    {
     "data": {
      "text/html": [
       "<div>\n",
       "<style scoped>\n",
       "    .dataframe tbody tr th:only-of-type {\n",
       "        vertical-align: middle;\n",
       "    }\n",
       "\n",
       "    .dataframe tbody tr th {\n",
       "        vertical-align: top;\n",
       "    }\n",
       "\n",
       "    .dataframe thead th {\n",
       "        text-align: right;\n",
       "    }\n",
       "</style>\n",
       "<table border=\"1\" class=\"dataframe\">\n",
       "  <thead>\n",
       "    <tr style=\"text-align: right;\">\n",
       "      <th></th>\n",
       "      <th>model</th>\n",
       "      <th>r2</th>\n",
       "      <th>mae</th>\n",
       "      <th>rmse</th>\n",
       "    </tr>\n",
       "  </thead>\n",
       "  <tbody>\n",
       "    <tr>\n",
       "      <th>5</th>\n",
       "      <td>MLR</td>\n",
       "      <td>0.64</td>\n",
       "      <td>820961.03</td>\n",
       "      <td>1111278.77</td>\n",
       "    </tr>\n",
       "    <tr>\n",
       "      <th>3</th>\n",
       "      <td>XGB</td>\n",
       "      <td>0.59</td>\n",
       "      <td>881659.09</td>\n",
       "      <td>1198051.25</td>\n",
       "    </tr>\n",
       "    <tr>\n",
       "      <th>1</th>\n",
       "      <td>Random Forest</td>\n",
       "      <td>0.56</td>\n",
       "      <td>908025.14</td>\n",
       "      <td>1228704.23</td>\n",
       "    </tr>\n",
       "    <tr>\n",
       "      <th>2</th>\n",
       "      <td>Decision Tree</td>\n",
       "      <td>0.45</td>\n",
       "      <td>1026079.22</td>\n",
       "      <td>1385136.36</td>\n",
       "    </tr>\n",
       "    <tr>\n",
       "      <th>4</th>\n",
       "      <td>KNN</td>\n",
       "      <td>0.38</td>\n",
       "      <td>1111698.65</td>\n",
       "      <td>1467577.89</td>\n",
       "    </tr>\n",
       "  </tbody>\n",
       "</table>\n",
       "</div>"
      ],
      "text/plain": [
       "           model    r2         mae        rmse\n",
       "5            MLR  0.64   820961.03  1111278.77\n",
       "3            XGB  0.59   881659.09  1198051.25\n",
       "1  Random Forest  0.56   908025.14  1228704.23\n",
       "2  Decision Tree  0.45  1026079.22  1385136.36\n",
       "4            KNN  0.38  1111698.65  1467577.89"
      ]
     },
     "execution_count": 30,
     "metadata": {},
     "output_type": "execute_result"
    }
   ],
   "source": [
    "predictions = {\n",
    "    'Random Forest':rf_pred,\n",
    "    'Decision Tree':dt_pred,\n",
    "    'XGB':xgb_pred,\n",
    "    'KNN':knn_pred,\n",
    "    'MLR':mlr_pred\n",
    "}\n",
    "\n",
    "df_result = pd.DataFrame()\n",
    "index = 1\n",
    "\n",
    "for p in predictions:\n",
    "    calculate_scores(predictions[p],p)\n",
    "    \n",
    "df_result.sort_values(by = 'rmse')"
   ]
  }
 ],
 "metadata": {
  "kernelspec": {
   "display_name": "Python 3 (ipykernel)",
   "language": "python",
   "name": "python3"
  },
  "language_info": {
   "codemirror_mode": {
    "name": "ipython",
    "version": 3
   },
   "file_extension": ".py",
   "mimetype": "text/x-python",
   "name": "python",
   "nbconvert_exporter": "python",
   "pygments_lexer": "ipython3",
   "version": "3.9.12"
  }
 },
 "nbformat": 4,
 "nbformat_minor": 5
}
